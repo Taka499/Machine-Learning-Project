{
 "cells": [
  {
   "cell_type": "code",
   "execution_count": 1,
   "metadata": {
    "_cell_guid": "b1076dfc-b9ad-4769-8c92-a6c4dae69d19",
    "_kg_hide-input": false,
    "_uuid": "8f2839f25d086af736a60e9eeb907d3b93b6e0e5"
   },
   "outputs": [
    {
     "name": "stdout",
     "output_type": "stream",
     "text": [
      "/kaggle/input/renfe-original/renfe.csv\n",
      "/kaggle/input/spanish-high-speed-rail-system-ticket-pricing/renfe.csv\n"
     ]
    }
   ],
   "source": [
    "import numpy as np\n",
    "import pandas as pd\n",
    "from sklearn import preprocessing\n",
    "from sklearn.model_selection import train_test_split\n",
    "\n",
    "# Input data files are available in the \"../input/\" directory.\n",
    "# For example, running this (by clicking run or pressing Shift+Enter) will list all files under the input directory\n",
    "\n",
    "import os\n",
    "for dirname, _, filenames in os.walk('/kaggle/input'):\n",
    "    for filename in filenames:\n",
    "        print(os.path.join(dirname, filename))\n",
    "\n",
    "# Any results you write to the current directory are saved as output."
   ]
  },
  {
   "cell_type": "markdown",
   "metadata": {},
   "source": [
    "# **CS334 Project -- Preprocessing**\n",
    "## —— George Saito, Qiao Lin"
   ]
  },
  {
   "cell_type": "markdown",
   "metadata": {},
   "source": [
    "## 1. Import Dataset"
   ]
  },
  {
   "cell_type": "code",
   "execution_count": 2,
   "metadata": {},
   "outputs": [],
   "source": [
    "renfe = pd.read_csv(\"../input/spanish-high-speed-rail-system-ticket-pricing/renfe.csv\")\n"
   ]
  },
  {
   "cell_type": "markdown",
   "metadata": {},
   "source": [
    "## 2. Explore the data"
   ]
  },
  {
   "cell_type": "code",
   "execution_count": 3,
   "metadata": {},
   "outputs": [
    {
     "name": "stdout",
     "output_type": "stream",
     "text": [
      "(7671354, 9)\n"
     ]
    }
   ],
   "source": [
    "print(renfe.shape)"
   ]
  },
  {
   "cell_type": "code",
   "execution_count": 4,
   "metadata": {},
   "outputs": [],
   "source": [
    "renfe = renfe.head(120000)"
   ]
  },
  {
   "cell_type": "markdown",
   "metadata": {},
   "source": [
    "### 3. Preprocessing"
   ]
  },
  {
   "cell_type": "markdown",
   "metadata": {},
   "source": [
    "* **Convert the datetime object.**"
   ]
  },
  {
   "cell_type": "code",
   "execution_count": 5,
   "metadata": {},
   "outputs": [],
   "source": [
    "for i in ['insert_date','start_date','end_date']:\n",
    "    renfe[i] = pd.to_datetime(renfe[i])"
   ]
  },
  {
   "cell_type": "markdown",
   "metadata": {},
   "source": [
    "* **Check and drop the null values.** "
   ]
  },
  {
   "cell_type": "code",
   "execution_count": 6,
   "metadata": {},
   "outputs": [
    {
     "data": {
      "text/plain": [
       "insert_date     0.000000\n",
       "origin          0.000000\n",
       "destination     0.000000\n",
       "start_date      0.000000\n",
       "end_date        0.000000\n",
       "train_type      0.000000\n",
       "price          58.585000\n",
       "train_class     0.356667\n",
       "fare            0.356667\n",
       "dtype: float64"
      ]
     },
     "execution_count": 6,
     "metadata": {},
     "output_type": "execute_result"
    }
   ],
   "source": [
    "# Check for null value\n",
    "renfe.isnull().mean()*100"
   ]
  },
  {
   "cell_type": "code",
   "execution_count": 7,
   "metadata": {},
   "outputs": [
    {
     "name": "stdout",
     "output_type": "stream",
     "text": [
      "<bound method DataFrame.info of                insert_date  origin destination          start_date  \\\n",
      "0      2019-04-11 21:49:46  MADRID   BARCELONA 2019-04-18 05:50:00   \n",
      "1      2019-04-11 21:49:46  MADRID   BARCELONA 2019-04-18 06:30:00   \n",
      "2      2019-04-11 21:49:46  MADRID   BARCELONA 2019-04-18 07:00:00   \n",
      "3      2019-04-11 21:49:46  MADRID   BARCELONA 2019-04-18 07:30:00   \n",
      "4      2019-04-11 21:49:46  MADRID   BARCELONA 2019-04-18 08:00:00   \n",
      "...                    ...     ...         ...                 ...   \n",
      "119995 2019-04-13 01:27:06  MADRID    VALENCIA 2019-06-11 06:08:00   \n",
      "119996 2019-04-13 01:27:06  MADRID    VALENCIA 2019-06-11 12:21:00   \n",
      "119997 2019-04-13 01:27:10  MADRID    VALENCIA 2019-05-12 18:40:00   \n",
      "119998 2019-04-13 01:27:10  MADRID    VALENCIA 2019-05-12 10:40:00   \n",
      "119999 2019-04-13 01:27:10  MADRID    VALENCIA 2019-05-12 11:10:00   \n",
      "\n",
      "                  end_date train_type   price   train_class        fare  \n",
      "0      2019-04-18 08:55:00        AVE   68.95    Preferente       Promo  \n",
      "1      2019-04-18 09:20:00        AVE   75.40       Turista       Promo  \n",
      "2      2019-04-18 09:30:00        AVE  106.75  Turista Plus       Promo  \n",
      "3      2019-04-18 10:40:00        AVE   90.50  Turista Plus       Promo  \n",
      "4      2019-04-18 10:30:00        AVE   88.95       Turista       Promo  \n",
      "...                    ...        ...     ...           ...         ...  \n",
      "119995 2019-06-11 12:55:00   REGIONAL     NaN       Turista  Adulto ida  \n",
      "119996 2019-06-11 19:04:00   REGIONAL     NaN       Turista  Adulto ida  \n",
      "119997 2019-05-12 20:20:00        AVE     NaN       Turista    Flexible  \n",
      "119998 2019-05-12 12:20:00        AVE     NaN       Turista       Promo  \n",
      "119999 2019-05-12 13:25:00  INTERCITY     NaN       Turista       Promo  \n",
      "\n",
      "[120000 rows x 9 columns]>\n"
     ]
    }
   ],
   "source": [
    "print(renfe.info)\n",
    "renfe.isnull().any()\n",
    "renfe = renfe.dropna()"
   ]
  },
  {
   "cell_type": "markdown",
   "metadata": {},
   "source": [
    "* **Convert 'origin' and 'destination' to 'route' feature. **"
   ]
  },
  {
   "cell_type": "code",
   "execution_count": 8,
   "metadata": {},
   "outputs": [],
   "source": [
    "# Changing the origin and destination to the routes\n",
    "renfe['route'] = renfe['origin'] + ' to ' + renfe['destination']"
   ]
  },
  {
   "cell_type": "markdown",
   "metadata": {},
   "source": [
    "* **Feature extraction**\n",
    "    + We seperate the previously converted feature \"datetime\" into several fetures like \"month\", \"day\", and \"time\", since datetime itself is a complex feature. "
   ]
  },
  {
   "cell_type": "code",
   "execution_count": 9,
   "metadata": {},
   "outputs": [
    {
     "name": "stderr",
     "output_type": "stream",
     "text": [
      "/opt/conda/lib/python3.6/site-packages/ipykernel_launcher.py:3: FutureWarning: `weekday_name` is deprecated and will be removed in a future version. Use `day_name` instead\n",
      "  This is separate from the ipykernel package so we can avoid doing imports until\n"
     ]
    },
    {
     "name": "stdout",
     "output_type": "stream",
     "text": [
      "<bound method DataFrame.info of               insert_date  origin destination          start_date  \\\n",
      "0     2019-04-11 21:49:46  MADRID   BARCELONA 2019-04-18 05:50:00   \n",
      "1     2019-04-11 21:49:46  MADRID   BARCELONA 2019-04-18 06:30:00   \n",
      "2     2019-04-11 21:49:46  MADRID   BARCELONA 2019-04-18 07:00:00   \n",
      "3     2019-04-11 21:49:46  MADRID   BARCELONA 2019-04-18 07:30:00   \n",
      "4     2019-04-11 21:49:46  MADRID   BARCELONA 2019-04-18 08:00:00   \n",
      "...                   ...     ...         ...                 ...   \n",
      "56063 2019-04-12 10:27:43  MADRID    VALENCIA 2019-06-06 16:05:00   \n",
      "56064 2019-04-12 10:27:43  MADRID    VALENCIA 2019-06-06 12:21:00   \n",
      "56065 2019-04-12 10:33:05  MADRID    VALENCIA 2019-06-03 12:21:00   \n",
      "56066 2019-04-12 10:33:05  MADRID    VALENCIA 2019-06-03 06:08:00   \n",
      "56067 2019-04-12 10:33:05  MADRID    VALENCIA 2019-06-03 16:05:00   \n",
      "\n",
      "                 end_date train_type   price   train_class        fare  \\\n",
      "0     2019-04-18 08:55:00        AVE   68.95    Preferente       Promo   \n",
      "1     2019-04-18 09:20:00        AVE   75.40       Turista       Promo   \n",
      "2     2019-04-18 09:30:00        AVE  106.75  Turista Plus       Promo   \n",
      "3     2019-04-18 10:40:00        AVE   90.50  Turista Plus       Promo   \n",
      "4     2019-04-18 10:30:00        AVE   88.95       Turista       Promo   \n",
      "...                   ...        ...     ...           ...         ...   \n",
      "56063 2019-06-06 22:47:00   REGIONAL   28.35       Turista  Adulto ida   \n",
      "56064 2019-06-06 19:04:00   REGIONAL   28.35       Turista  Adulto ida   \n",
      "56065 2019-06-03 19:04:00   REGIONAL   28.35       Turista  Adulto ida   \n",
      "56066 2019-06-03 12:55:00   REGIONAL   28.35       Turista  Adulto ida   \n",
      "56067 2019-06-03 22:47:00   REGIONAL   28.35       Turista  Adulto ida   \n",
      "\n",
      "                     route  month  day_name  quarter  travel_time  start_hour  \\\n",
      "0      MADRID to BARCELONA      4  Thursday        2        185.0           5   \n",
      "1      MADRID to BARCELONA      4  Thursday        2        170.0           6   \n",
      "2      MADRID to BARCELONA      4  Thursday        2        150.0           7   \n",
      "3      MADRID to BARCELONA      4  Thursday        2        190.0           7   \n",
      "4      MADRID to BARCELONA      4  Thursday        2        150.0           8   \n",
      "...                    ...    ...       ...      ...          ...         ...   \n",
      "56063   MADRID to VALENCIA      6  Thursday        2        402.0          16   \n",
      "56064   MADRID to VALENCIA      6  Thursday        2        403.0          12   \n",
      "56065   MADRID to VALENCIA      6    Monday        2        403.0          12   \n",
      "56066   MADRID to VALENCIA      6    Monday        2        407.0           6   \n",
      "56067   MADRID to VALENCIA      6    Monday        2        402.0          16   \n",
      "\n",
      "       end_hour  \n",
      "0             8  \n",
      "1             9  \n",
      "2             9  \n",
      "3            10  \n",
      "4            10  \n",
      "...         ...  \n",
      "56063        22  \n",
      "56064        19  \n",
      "56065        19  \n",
      "56066        12  \n",
      "56067        22  \n",
      "\n",
      "[49698 rows x 16 columns]>\n"
     ]
    }
   ],
   "source": [
    "# Extracting features from 'start_date' and 'end_date'\n",
    "renfe['month'] = renfe['start_date'].apply(lambda d:d.month)\n",
    "renfe['day_name'] = renfe['start_date'].apply(lambda d: d.weekday_name)\n",
    "renfe['quarter'] = renfe['start_date'].apply(lambda d: d.quarter)\n",
    "renfe['travel_time'] = (renfe['end_date']-renfe['start_date'])/np.timedelta64(1, 'm')\n",
    "renfe['start_hour'] = renfe['start_date'].apply(lambda d: d.hour)\n",
    "renfe['end_hour'] = renfe['end_date'].apply(lambda d: d.hour)\n",
    "print(renfe.info)"
   ]
  },
  {
   "cell_type": "markdown",
   "metadata": {},
   "source": [
    "* **Deleting transformed features**"
   ]
  },
  {
   "cell_type": "code",
   "execution_count": 10,
   "metadata": {},
   "outputs": [
    {
     "name": "stdout",
     "output_type": "stream",
     "text": [
      "Index(['insert_date', 'origin', 'destination', 'start_date', 'end_date',\n",
      "       'train_type', 'price', 'train_class', 'fare', 'route', 'month',\n",
      "       'day_name', 'quarter', 'travel_time', 'start_hour', 'end_hour'],\n",
      "      dtype='object')\n",
      "Index(['train_type', 'price', 'train_class', 'fare', 'route', 'month',\n",
      "       'day_name', 'quarter', 'travel_time', 'start_hour', 'end_hour'],\n",
      "      dtype='object')\n"
     ]
    }
   ],
   "source": [
    "print(renfe.columns)\n",
    "renfe.drop(['origin', 'destination', 'insert_date', 'start_date', 'end_date'], axis=1, inplace=True)\n",
    "print(renfe.columns)"
   ]
  },
  {
   "cell_type": "markdown",
   "metadata": {},
   "source": [
    "* **One-Hot Encoding**"
   ]
  },
  {
   "cell_type": "code",
   "execution_count": 11,
   "metadata": {},
   "outputs": [
    {
     "name": "stdout",
     "output_type": "stream",
     "text": [
      "29\n",
      "29\n",
      "        price  month  travel_time  start_hour  end_hour  train_type_ALVIA  \\\n",
      "0       68.95      4        185.0           5         8               0.0   \n",
      "1       75.40      4        170.0           6         9               0.0   \n",
      "2      106.75      4        150.0           7         9               0.0   \n",
      "3       90.50      4        190.0           7        10               0.0   \n",
      "4       88.95      4        150.0           8        10               0.0   \n",
      "...       ...    ...          ...         ...       ...               ...   \n",
      "56063   28.35      6        402.0          16        22               0.0   \n",
      "56064   28.35      6        403.0          12        19               0.0   \n",
      "56065   28.35      6        403.0          12        19               0.0   \n",
      "56066   28.35      6        407.0           6        12               0.0   \n",
      "56067   28.35      6        402.0          16        22               0.0   \n",
      "\n",
      "       train_type_AV City  train_type_AVE  train_type_AVE-LD  \\\n",
      "0                     0.0             1.0                0.0   \n",
      "1                     0.0             1.0                0.0   \n",
      "2                     0.0             1.0                0.0   \n",
      "3                     0.0             1.0                0.0   \n",
      "4                     0.0             1.0                0.0   \n",
      "...                   ...             ...                ...   \n",
      "56063                 0.0             0.0                0.0   \n",
      "56064                 0.0             0.0                0.0   \n",
      "56065                 0.0             0.0                0.0   \n",
      "56066                 0.0             0.0                0.0   \n",
      "56067                 0.0             0.0                0.0   \n",
      "\n",
      "       train_type_AVE-MD  ...  day_name_Monday  day_name_Saturday  \\\n",
      "0                    0.0  ...              0.0                0.0   \n",
      "1                    0.0  ...              0.0                0.0   \n",
      "2                    0.0  ...              0.0                0.0   \n",
      "3                    0.0  ...              0.0                0.0   \n",
      "4                    0.0  ...              0.0                0.0   \n",
      "...                  ...  ...              ...                ...   \n",
      "56063                0.0  ...              0.0                0.0   \n",
      "56064                0.0  ...              0.0                0.0   \n",
      "56065                0.0  ...              1.0                0.0   \n",
      "56066                0.0  ...              1.0                0.0   \n",
      "56067                0.0  ...              1.0                0.0   \n",
      "\n",
      "       day_name_Sunday  day_name_Thursday  day_name_Tuesday  \\\n",
      "0                  0.0                1.0               0.0   \n",
      "1                  0.0                1.0               0.0   \n",
      "2                  0.0                1.0               0.0   \n",
      "3                  0.0                1.0               0.0   \n",
      "4                  0.0                1.0               0.0   \n",
      "...                ...                ...               ...   \n",
      "56063              0.0                1.0               0.0   \n",
      "56064              0.0                1.0               0.0   \n",
      "56065              0.0                0.0               0.0   \n",
      "56066              0.0                0.0               0.0   \n",
      "56067              0.0                0.0               0.0   \n",
      "\n",
      "       day_name_Wednesday  quarter_2  route_MADRID to BARCELONA  \\\n",
      "0                     0.0        1.0                        1.0   \n",
      "1                     0.0        1.0                        1.0   \n",
      "2                     0.0        1.0                        1.0   \n",
      "3                     0.0        1.0                        1.0   \n",
      "4                     0.0        1.0                        1.0   \n",
      "...                   ...        ...                        ...   \n",
      "56063                 0.0        1.0                        0.0   \n",
      "56064                 0.0        1.0                        0.0   \n",
      "56065                 0.0        1.0                        0.0   \n",
      "56066                 0.0        1.0                        0.0   \n",
      "56067                 0.0        1.0                        0.0   \n",
      "\n",
      "       route_MADRID to SEVILLA  route_MADRID to VALENCIA  \n",
      "0                          0.0                       0.0  \n",
      "1                          0.0                       0.0  \n",
      "2                          0.0                       0.0  \n",
      "3                          0.0                       0.0  \n",
      "4                          0.0                       0.0  \n",
      "...                        ...                       ...  \n",
      "56063                      0.0                       1.0  \n",
      "56064                      0.0                       1.0  \n",
      "56065                      0.0                       1.0  \n",
      "56066                      0.0                       1.0  \n",
      "56067                      0.0                       1.0  \n",
      "\n",
      "[49698 rows x 34 columns]\n"
     ]
    },
    {
     "name": "stderr",
     "output_type": "stream",
     "text": [
      "/opt/conda/lib/python3.6/site-packages/ipykernel_launcher.py:10: SettingWithCopyWarning: \n",
      "A value is trying to be set on a copy of a slice from a DataFrame.\n",
      "Try using .loc[row_indexer,col_indexer] = value instead\n",
      "\n",
      "See the caveats in the documentation: http://pandas.pydata.org/pandas-docs/stable/user_guide/indexing.html#returning-a-view-versus-a-copy\n",
      "  # Remove the CWD from sys.path while we load stuff.\n"
     ]
    }
   ],
   "source": [
    "x_categ = renfe[['train_type', 'train_class', 'fare', 'day_name', 'quarter', 'route']]\n",
    "x_oh = renfe[['price', 'month', 'travel_time', 'start_hour', 'end_hour']]\n",
    "oh = preprocessing.OneHotEncoder()\n",
    "oh_categ = oh.fit_transform(x_categ)\n",
    "oh_feat = oh.get_feature_names(['train_type', 'train_class', 'fare', 'day_name', 'quarter', 'route'])\n",
    "print(len(oh_feat))\n",
    "print(len(np.transpose(oh_categ.toarray())))\n",
    "i = 0\n",
    "for c in oh_feat:\n",
    "    x_oh[c] = np.transpose(oh_categ.toarray())[i]\n",
    "    i += 1\n",
    "print(x_oh)"
   ]
  },
  {
   "cell_type": "markdown",
   "metadata": {},
   "source": [
    "* **Extract y-label and split the dataset to train and test datasets**"
   ]
  },
  {
   "cell_type": "code",
   "execution_count": 12,
   "metadata": {
    "_kg_hide-input": false
   },
   "outputs": [],
   "source": [
    "#from sklearn.model_selection import train_test_split\n",
    "y = x_oh['price']\n",
    "xTrain_oh, xTest_oh, yTrain_oh, yTest_oh = train_test_split(x_oh.drop(columns=['price']), y, test_size=0.3, random_state=334)"
   ]
  },
  {
   "cell_type": "markdown",
   "metadata": {},
   "source": [
    "### 4. Output the dataset as csv file"
   ]
  },
  {
   "cell_type": "code",
   "execution_count": 13,
   "metadata": {},
   "outputs": [],
   "source": [
    "xTrain_oh.to_csv(\"xTrain_renfe_oh.csv\", index=False)\n",
    "xTest_oh.to_csv(\"xTest_renfe_oh.csv\", index=False)\n",
    "yTrain_oh.to_csv(\"yTrain_renfe_oh.csv\", header='label', index=False)\n",
    "yTest_oh.to_csv(\"yTest_renfe_oh.csv\", header='label', index=False)"
   ]
  }
 ],
 "metadata": {
  "kernelspec": {
   "display_name": "Python 3",
   "language": "python",
   "name": "python3"
  },
  "language_info": {
   "codemirror_mode": {
    "name": "ipython",
    "version": 3
   },
   "file_extension": ".py",
   "mimetype": "text/x-python",
   "name": "python",
   "nbconvert_exporter": "python",
   "pygments_lexer": "ipython3",
   "version": "3.6.6"
  }
 },
 "nbformat": 4,
 "nbformat_minor": 1
}
